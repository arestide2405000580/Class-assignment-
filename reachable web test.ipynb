{
  "nbformat": 4,
  "nbformat_minor": 0,
  "metadata": {
    "colab": {
      "provenance": []
    },
    "kernelspec": {
      "name": "python3",
      "display_name": "Python 3"
    },
    "language_info": {
      "name": "python"
    }
  },
  "cells": [
    {
      "cell_type": "code",
      "execution_count": 10,
      "metadata": {
        "colab": {
          "base_uri": "https://localhost:8080/",
          "height": 193
        },
        "id": "iPgyCT25Af55",
        "outputId": "0601b0a4-c191-4791-859c-0fa8d2786d4e"
      },
      "outputs": [
        {
          "output_type": "stream",
          "name": "stdout",
          "text": [
            "Website https://uok.ac.rw is up\n"
          ]
        },
        {
          "output_type": "error",
          "ename": "KeyboardInterrupt",
          "evalue": "",
          "traceback": [
            "\u001b[0;31m---------------------------------------------------------------------------\u001b[0m",
            "\u001b[0;31mKeyboardInterrupt\u001b[0m                         Traceback (most recent call last)",
            "\u001b[0;32m<ipython-input-10-f9eb08097efe>\u001b[0m in \u001b[0;36m<cell line: 0>\u001b[0;34m()\u001b[0m\n\u001b[1;32m     37\u001b[0m     \u001b[0;32mfor\u001b[0m \u001b[0murl\u001b[0m \u001b[0;32min\u001b[0m \u001b[0murls\u001b[0m\u001b[0;34m:\u001b[0m\u001b[0;34m\u001b[0m\u001b[0;34m\u001b[0m\u001b[0m\n\u001b[1;32m     38\u001b[0m         \u001b[0mprint\u001b[0m\u001b[0;34m(\u001b[0m\u001b[0mcheck_website\u001b[0m\u001b[0;34m(\u001b[0m\u001b[0murl\u001b[0m\u001b[0;34m)\u001b[0m\u001b[0;34m)\u001b[0m\u001b[0;34m\u001b[0m\u001b[0;34m\u001b[0m\u001b[0m\n\u001b[0;32m---> 39\u001b[0;31m     \u001b[0mtime\u001b[0m\u001b[0;34m.\u001b[0m\u001b[0msleep\u001b[0m\u001b[0;34m(\u001b[0m\u001b[0;36m300\u001b[0m\u001b[0;34m)\u001b[0m\u001b[0;34m\u001b[0m\u001b[0;34m\u001b[0m\u001b[0m\n\u001b[0m",
            "\u001b[0;31mKeyboardInterrupt\u001b[0m: "
          ]
        }
      ],
      "source": [
        "import requests\n",
        "import smtplib\n",
        "import time\n",
        "import logging\n",
        "\n",
        "SENDER_EMAIL = \"aristideisingizwe23@gmail.com\"\n",
        "RECIPIENT_EMAIL = \"aristideisingizwe23@gmail.com\"\n",
        "EMAIL_PASSWORD = \"Password23\"\n",
        "\n",
        "logging.basicConfig(filename='website_monitor.log', level=logging.INFO)\n",
        "\n",
        "def send_email(subject, body):\n",
        "    try:\n",
        "        with smtplib.SMTP('smtp.gmail.com', 587) as server:\n",
        "            server.starttls()\n",
        "            server.login(SENDER_EMAIL, EMAIL_PASSWORD)\n",
        "            message = f\"Subject: {subject}\\n\\n{body}\"\n",
        "            server.sendmail(SENDER_EMAIL, RECIPIENT_EMAIL, message)\n",
        "    except Exception as e:\n",
        "        logging.error(f\"Error sending email: {e}\")\n",
        "\n",
        "def check_website(url):\n",
        "    try:\n",
        "        response = requests.get(url, timeout=5)\n",
        "        if response.status_code != 200:\n",
        "            raise Exception(f\"Received unexpected status code {response.status_code}\")\n",
        "        logging.info(f\"Website {url} is up\")\n",
        "        return f\"Website {url} is up\"\n",
        "    except Exception as e:\n",
        "        error_message = f\"Website {url} is down: {e}\"\n",
        "        logging.error(error_message)\n",
        "        send_email(\"Website Down Alert\", error_message)\n",
        "        return error_message\n",
        "\n",
        "urls = [\"https://uok.ac.rw\"]\n",
        "while True:\n",
        "    for url in urls:\n",
        "        print(check_website(url))\n",
        "    time.sleep(300)"
      ]
    }
  ]
}
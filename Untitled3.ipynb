{
  "nbformat": 4,
  "nbformat_minor": 0,
  "metadata": {
    "colab": {
      "provenance": []
    },
    "kernelspec": {
      "name": "python3",
      "display_name": "Python 3"
    },
    "language_info": {
      "name": "python"
    }
  },
  "cells": [
    {
      "cell_type": "code",
      "execution_count": 1,
      "metadata": {
        "colab": {
          "base_uri": "https://localhost:8080/"
        },
        "id": "qzVg_K3QS0Bq",
        "outputId": "b2240e49-49ae-4fc6-80c0-2d24849d4d85"
      },
      "outputs": [
        {
          "output_type": "stream",
          "name": "stdout",
          "text": [
            "similarity :0.21\n",
            "common words: {'text', 'this', 'legal'}\n"
          ]
        }
      ],
      "source": [
        "import random\n",
        "\n",
        "file1 =\"history is the systematic study of the past\"\n",
        "file2 =\"history is the systematic study of the past this is just for practice\"\n",
        "\n",
        "\n",
        "def jaccard_similarity(text1, text2):\n",
        "  #split texts into set of words\n",
        "  set1 = set(text1.split())\n",
        "  set2 = set(text2.split())\n",
        "\n",
        "  #the jaccard_similarity function now returns both the similarility scores and set of common words.\n",
        "  #the intersection variable contains the words that appear in both text1 and text2.\n",
        "  #the common_words set is printed alongside the similarity score.\n",
        "  # find intersection an union\n",
        "  intersection = set1.intersection(set2)\n",
        "  union = set1.union(set2)\n",
        "\n",
        "  # calculate jaccard similarity\n",
        "\n",
        "  jaccard_similarity = len(intersection) / len(union)\n",
        "\n",
        "  #return similarity and intersecting words\n",
        "  return jaccard_similarity, intersection\n",
        "# input texts\n",
        "text1 = \"this is a sample sample text about is this legal sample issues.\"\n",
        "text2 = \"this text legal discusses legal and ethical this issues in legal computing.\"\n",
        "# calculate similarity and get common words\n",
        "similarity, common_words = jaccard_similarity(text1, text2)\n",
        "\n",
        "#print results 0.29\n",
        "print (f\"similarity :{similarity:.2f}\")\n",
        "print (f\"common words: {common_words}\")"
      ]
    }
  ]
}
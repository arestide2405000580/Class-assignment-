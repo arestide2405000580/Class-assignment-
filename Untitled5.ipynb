{
  "nbformat": 4,
  "nbformat_minor": 0,
  "metadata": {
    "colab": {
      "provenance": []
    },
    "kernelspec": {
      "name": "python3",
      "display_name": "Python 3"
    },
    "language_info": {
      "name": "python"
    }
  },
  "cells": [
    {
      "cell_type": "code",
      "execution_count": 3,
      "metadata": {
        "colab": {
          "base_uri": "https://localhost:8080/"
        },
        "id": "E7OeUHqaXllP",
        "outputId": "32170e09-0454-4a29-fe0b-122048b11744"
      },
      "outputs": [
        {
          "output_type": "stream",
          "name": "stdout",
          "text": [
            "Hate speech detected! Offensive words found: cockroaches, kill, exterminate, destroy, tutsi\n"
          ]
        }
      ],
      "source": [
        "# List of offensive words commonly associated with hate speech\n",
        "offensive_words = [\n",
        "    \"inyenzi\", \"cockroaches\", \"kill\", \"exterminate\", \"destroy\",\n",
        "    \"traitors\", \"snakes\", \"rats\", \"hutu power\", \"tutsi\",\n",
        "    \"ethnic cleansing\", \"wipe out\", \"enemy\", \"revenge\",\n",
        "    \"impurity\", \"traitors\", \"infiltrators\", \"parasites\"\n",
        "]\n",
        "\n",
        "# Function to detect hate speech based on the presence of offensive words\n",
        "def detect_hate_speech(speech, offensive_words):\n",
        "    # Convert speech to lowercase for case-insensitive matching\n",
        "    speech = speech.lower()\n",
        "\n",
        "    # List to store detected offensive words\n",
        "    detected_words = []\n",
        "\n",
        "    # Check if any offensive word is present in the speech\n",
        "    for word in offensive_words:\n",
        "        if word.lower() in speech:\n",
        "            detected_words.append(word)\n",
        "\n",
        "    # Return results based on detected words\n",
        "    if detected_words:\n",
        "        return f\"Hate speech detected! Offensive words found: {', '.join(detected_words)}\"\n",
        "    else:\n",
        "        return \"No hate speech detected.\"\n",
        "\n",
        "# Example speech text (Léon Mugesera's 1992 speech)\n",
        "speech_hate_words = \"\"\"\n",
        "The Tutsis are like cockroaches, they must be exterminated, they must be killed, and we, the Hutus, will be the ones to do it. We must carry out our revolution,\n",
        "and the revolution is to eliminate the Tutsi. If we do not kill them, they will kill us. There are no more excuses. We must be like the grasshoppers and finish off the cockroaches. We must get rid of them.”\n",
        "“We will have to be like the grasshoppers that finish off the cockroaches. The only way to stop this is to have the Tutsi leave Rwanda. They must be sent back to Ethiopia.\n",
        "They will be repatriated, and they will no longer be a problem. If we don’t do it, they will eventually kill us. We must act now before they destroy us\n",
        "\"\"\"\n",
        "\n",
        "# Run the function to detect hate speech\n",
        "result = detect_hate_speech(speech_hate_words, offensive_words)\n",
        "\n",
        "# Output the result\n",
        "print(result)\n",
        "\n"
      ]
    }
  ]
}
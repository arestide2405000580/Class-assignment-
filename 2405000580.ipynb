{
  "nbformat": 4,
  "nbformat_minor": 0,
  "metadata": {
    "colab": {
      "provenance": []
    },
    "kernelspec": {
      "name": "python3",
      "display_name": "Python 3"
    },
    "language_info": {
      "name": "python"
    }
  },
  "cells": [
    {
      "cell_type": "code",
      "execution_count": null,
      "metadata": {
        "colab": {
          "base_uri": "https://localhost:8080/"
        },
        "id": "HTB7g3TiCzeZ",
        "outputId": "c06636b8-481d-40e4-ad3c-663d4cdfcba8"
      },
      "outputs": [
        {
          "output_type": "stream",
          "name": "stdout",
          "text": [
            "Requirement already satisfied: cryptography in /usr/local/lib/python3.11/dist-packages (43.0.3)\n",
            "Requirement already satisfied: cffi>=1.12 in /usr/local/lib/python3.11/dist-packages (from cryptography) (1.17.1)\n",
            "Requirement already satisfied: pycparser in /usr/local/lib/python3.11/dist-packages (from cffi>=1.12->cryptography) (2.22)\n",
            "Encrypted message: b'gAAAAABnreps_UPzX-FXQybW0o5iiouvmZaowWhUfZm9YU6vhYNDrpdPcz-WSWUpYlcLAL3YunaX7FjMAsz2azu4AjD5QqcpU7u0g-HsQ1GsulFfwPXyR7c='\n",
            "first_name: ISINGIZWE\n"
          ]
        }
      ],
      "source": [
        "\n",
        "!pip install cryptography\n",
        "from cryptography.fernet import Fernet\n",
        "\n",
        "# Generate key\n",
        "key=Fernet.generate_key()\n",
        "cipher_suite= Fernet(key)\n",
        "\n",
        "# message to generate\n",
        "\n",
        "message = b\"first_name: Annick\"\n",
        "\n",
        "# Encrepty\n",
        "\n",
        "encrypted_message = cipher_suite.encrypt(message)\n",
        "print(\"Encrypted message:\",encrypted_message)\n",
        "\n",
        "# decrepted\n",
        "decrypted_message = cipher_suite.decrypt(encrypted_message)\n",
        "print(decrypted_message.decode())"
      ]
    },
    {
      "cell_type": "markdown",
      "source": [],
      "metadata": {
        "id": "5SZnk8RnH6Rc"
      }
    },
    {
      "cell_type": "code",
      "source": [
        "\n"
      ],
      "metadata": {
        "collapsed": true,
        "id": "5FSdCfQOPTWC"
      },
      "execution_count": null,
      "outputs": []
    },
    {
      "cell_type": "code",
      "source": [],
      "metadata": {
        "id": "izp59plnSlmE"
      },
      "execution_count": null,
      "outputs": []
    }
  ]
}
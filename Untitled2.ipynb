{
  "nbformat": 4,
  "nbformat_minor": 0,
  "metadata": {
    "colab": {
      "provenance": []
    },
    "kernelspec": {
      "name": "python3",
      "display_name": "Python 3"
    },
    "language_info": {
      "name": "python"
    }
  },
  "cells": [
    {
      "cell_type": "code",
      "execution_count": null,
      "metadata": {
        "colab": {
          "base_uri": "https://localhost:8080/"
        },
        "id": "FR9Fa-aF5Yoz",
        "outputId": "32b6528d-e2a9-4da4-a8b5-c93fdaf90c55"
      },
      "outputs": [
        {
          "output_type": "stream",
          "name": "stdout",
          "text": [
            "Biased_hire [{'name': 'MUTESI', 'gender': 'F', 'age': '25'}]\n",
            "fiar_hire {'name': 'MUTESI', 'gender': 'F', 'age': '25'}\n",
            "age_hire [{'name': 'JAMES', 'gender': 'M', 'age': '27'}]\n"
          ]
        }
      ],
      "source": [
        "import random\n",
        "#Biased hiring algorithm\n",
        "\n",
        "candidates = [{'name':'MUTESI','gender':'F','age':'25'},{'name':'JAMES','gender':'M','age':'27'}]\n",
        "import random\n",
        "#Biased hiring algorithm\n",
        "\n",
        "candidates = [{'name':'MUTESI','gender':'F','age':'25'},{'name':'JAMES','gender':'M','age':'27'}]\n",
        "import random\n",
        "#Biased hiring algorithm\n",
        "\n",
        "candidates = [{'name':'MUTESI','gender':'F','age':'25'},{'name':'JAMES','gender':'M','age':'27'}]\n",
        "import random\n",
        "#Biased hiring algorithm\n",
        "\n",
        "def fiar_hire(candidates):\n",
        "  return random.choice(candidates)\n",
        "import random\n",
        "#Biased hiring algorithm\n",
        "\n",
        "candidates = [{'name':'MUTESI','gender':'F','age':'25'},{'name':'JAMES','gender':'M','age':'27'}]\n",
        "def biased_hire(candidates):\n",
        "  return[candidate for candidate in candidates if candidate['gender']=='F']\n",
        "print(\"Biased_hire\", biased_hire(candidates))\n",
        "\n",
        "def fiar_hire(candidates):\n",
        "  return random.choice(candidates)\n",
        "print(\"fiar_hire\" ,fiar_hire(candidates))\n",
        "candidates = [{'name':'MUTESI','gender':'F','age':'25'},{'name':'JAMES','gender':'M','age':'27'}]\n",
        "def age_hire(candidates):\n",
        "  return[candidate for candidate in candidates if candidate['age']=='27']\n",
        "print(\"age_hire\", age_hire(candidates))"
      ]
    },
    {
      "cell_type": "code",
      "source": [],
      "metadata": {
        "id": "-XaUQ1Ge8upw"
      },
      "execution_count": null,
      "outputs": []
    }
  ]
}